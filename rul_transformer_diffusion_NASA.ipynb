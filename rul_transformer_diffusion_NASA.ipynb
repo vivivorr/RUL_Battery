{
 "cells": [
  {
   "cell_type": "code",
   "execution_count": 8,
   "metadata": {},
   "outputs": [],
   "source": [
    "import numpy as np\n",
    "import random\n",
    "import math\n",
    "import os\n",
    "import scipy.io\n",
    "import matplotlib.pyplot as plt\n",
    "import torch\n",
    "import torch.nn as nn\n",
    "import torch.nn.functional as F\n",
    "import torchvision\n",
    "import transformers\n",
    "\n",
    "from math import sqrt\n",
    "from datetime import datetime\n",
    "from sklearn.metrics import mean_absolute_error\n",
    "from sklearn.metrics import mean_squared_error\n"
   ]
  },
  {
   "cell_type": "code",
   "execution_count": 11,
   "metadata": {},
   "outputs": [],
   "source": [
    "device = torch.device('cuda:0' if torch.cuda.is_available() else 'cpu')"
   ]
  },
  {
   "cell_type": "code",
   "execution_count": 12,
   "metadata": {},
   "outputs": [],
   "source": [
    "# convert str to datatime \n",
    "def convert_to_time(hmm):\n",
    "    year, month, day, hour, minute, second = int(hmm[0]), int(hmm[1]), int(hmm[2]), int(hmm[3]), int(hmm[4]), int(hmm[5])\n",
    "    return datetime(year=year, month=month, day=day, hour=hour, minute=minute, second=second)\n",
    "\n",
    "\n",
    "# load .mat data\n",
    "def loadMat(matfile):\n",
    "    data = scipy.io.loadmat(matfile)\n",
    "    filename = matfile.split(\"/\")[-1].split(\".\")[0]\n",
    "    col = data[filename]\n",
    "    col = col[0][0][0][0]\n",
    "    size = col.shape[0]\n",
    "\n",
    "    data = []\n",
    "    for i in range(size):\n",
    "        k = list(col[i][3][0].dtype.fields.keys())\n",
    "        d1, d2 = {}, {}\n",
    "        if str(col[i][0][0]) != 'impedance':\n",
    "            for j in range(len(k)):\n",
    "                t = col[i][3][0][0][j][0];\n",
    "                l = [t[m] for m in range(len(t))]\n",
    "                d2[k[j]] = l\n",
    "        d1['type'], d1['temp'], d1['time'], d1['data'] = str(col[i][0][0]), int(col[i][1][0]), str(convert_to_time(col[i][2][0])), d2\n",
    "        data.append(d1)\n",
    "\n",
    "    return data\n",
    "\n",
    "\n",
    "# get capacity data\n",
    "def getBatteryCapacity(Battery):\n",
    "    cycle, capacity = [], []\n",
    "    i = 1\n",
    "    for Bat in Battery:\n",
    "        if Bat['type'] == 'discharge':\n",
    "            capacity.append(Bat['data']['Capacity'][0])\n",
    "            cycle.append(i)\n",
    "            i += 1\n",
    "    return [cycle, capacity]\n",
    "\n",
    "\n",
    "# get the charge data of a battery\n",
    "def getBatteryValues(Battery, Type='charge'):\n",
    "    data=[]\n",
    "    for Bat in Battery:\n",
    "        if Bat['type'] == Type:\n",
    "            data.append(Bat['data'])\n",
    "    return data"
   ]
  },
  {
   "cell_type": "code",
   "execution_count": null,
   "metadata": {},
   "outputs": [],
   "source": []
  }
 ],
 "metadata": {
  "kernelspec": {
   "display_name": "Python 3 (ipykernel)",
   "language": "python",
   "name": "python3"
  },
  "language_info": {
   "codemirror_mode": {
    "name": "ipython",
    "version": 3
   },
   "file_extension": ".py",
   "mimetype": "text/x-python",
   "name": "python",
   "nbconvert_exporter": "python",
   "pygments_lexer": "ipython3",
   "version": "3.11.5"
  }
 },
 "nbformat": 4,
 "nbformat_minor": 4
}
